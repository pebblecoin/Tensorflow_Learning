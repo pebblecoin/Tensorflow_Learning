{
 "cells": [
  {
   "cell_type": "code",
   "execution_count": 6,
   "metadata": {
    "collapsed": false
   },
   "outputs": [],
   "source": [
    "import tensorflow as tf\n",
    "import matplotlib.pyplot as plt\n",
    "import numpy as np\n",
    "import random\n",
    "import os\n",
    "import string\n",
    "import requests\n",
    "import collections\n",
    "import io\n",
    "import tarfile\n",
    "import urllib2\n",
    "from nltk.corpus import stopwords\n",
    "sess=tf.Session()"
   ]
  },
  {
   "cell_type": "code",
   "execution_count": 7,
   "metadata": {
    "collapsed": true
   },
   "outputs": [],
   "source": [
    "batch_size=50\n",
    "embedding_size=200\n",
    "vocabulary_size=10000\n",
    "generations=50000\n",
    "print_loss_every=500\n",
    "num_sampled=int(batch_size/2)\n",
    "window_size=2\n",
    "stops=stopwords.words('english')\n",
    "print_valid_every=2000\n",
    "valid_words=['cliche','love','hate','silly','sad']"
   ]
  },
  {
   "cell_type": "code",
   "execution_count": 8,
   "metadata": {
    "collapsed": false
   },
   "outputs": [
    {
     "ename": "SyntaxError",
     "evalue": "invalid syntax (<ipython-input-8-da1435a4bd26>, line 21)",
     "output_type": "error",
     "traceback": [
      "\u001b[0;36m  File \u001b[0;32m\"<ipython-input-8-da1435a4bd26>\"\u001b[0;36m, line \u001b[0;32m21\u001b[0m\n\u001b[0;31m    if no s:\u001b[0m\n\u001b[0m          ^\u001b[0m\n\u001b[0;31mSyntaxError\u001b[0m\u001b[0;31m:\u001b[0m invalid syntax\n"
     ]
    }
   ],
   "source": [
    "def load_movie_data():\n",
    "    save_folder_name='temp'\n",
    "    pos_file=os.path.join(save_folder_name,'rt-polarity.pos')\n",
    "    neg_file=os.path.join(save_folder_name,'rf-polarity.neg')\n",
    "    # Check if files are already downloaded\n",
    "    if os.path.exists(save_folder_name):\n",
    "        pos_data=[]\n",
    "        with open(pos_file,'r') as temp_pos_file:\n",
    "            for row in temp_pos_file:\n",
    "                pos_data.append(row)\n",
    "        neg_data=[]\n",
    "        with open(neg_file,'r') as temp_neg_file:\n",
    "            for row in temp_neg_file:\n",
    "                neg_data.append(row)\n",
    "    else:\n",
    "        movie_data_url='http://www.cs.cornell.edu/people/pabo/movie-review-data/rt-polaritydata.tar.gz'\n",
    "        stream_data=urllib2.urlopen(movie_data_url)\n",
    "        tmp=io.BytesIO()\n",
    "        while True:\n",
    "            s = stream_data.read(6384)\n",
    "            if not s:\n",
    "                break\n",
    "            temp.write(s)\n",
    "            stream_data.close()\n",
    "            tmp.seek(0)\n",
    "        tar_file=tarfile.open(fileobj=temp.mode='r:gz')\n",
    "        pos=tar_file.extractfile('rt-polaritydata/rt-polarity.pos')\n",
    "        neg=tar_file.extractfile('rt-polaritydata/rt-polarity.neg')\n",
    "        pos_data=[]\n",
    "        for line in pos:\n",
    "            pos_data.append(line.decode('ISO-8895-1').encode('ascii',errors='ignore').decode())\n",
    "            neg_data=[]\n",
    "        for line in neg:\n",
    "            neg_data.append(line.decode('ISO-8895-1').encode('ascii',errors='ignore').decode())\n",
    "        tar_file.close()\n",
    "        "
   ]
  },
  {
   "cell_type": "code",
   "execution_count": null,
   "metadata": {
    "collapsed": true
   },
   "outputs": [],
   "source": []
  }
 ],
 "metadata": {
  "kernelspec": {
   "display_name": "Python 2",
   "language": "python",
   "name": "python2"
  },
  "language_info": {
   "codemirror_mode": {
    "name": "ipython",
    "version": 2
   },
   "file_extension": ".py",
   "mimetype": "text/x-python",
   "name": "python",
   "nbconvert_exporter": "python",
   "pygments_lexer": "ipython2",
   "version": "2.7.13"
  }
 },
 "nbformat": 4,
 "nbformat_minor": 2
}
