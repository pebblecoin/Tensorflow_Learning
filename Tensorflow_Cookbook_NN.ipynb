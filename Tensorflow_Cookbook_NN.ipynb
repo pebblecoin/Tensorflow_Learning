{
 "cells": [
  {
   "cell_type": "code",
   "execution_count": 27,
   "metadata": {
    "collapsed": true
   },
   "outputs": [],
   "source": [
    "import matplotlib.pyplot as plt\n",
    "import numpy as np\n",
    "import tensorflow as tf\n",
    "from sklearn import datasets"
   ]
  },
  {
   "cell_type": "code",
   "execution_count": 28,
   "metadata": {
    "collapsed": true
   },
   "outputs": [],
   "source": [
    "iris=datasets.load_iris()"
   ]
  },
  {
   "cell_type": "code",
   "execution_count": 29,
   "metadata": {
    "collapsed": false
   },
   "outputs": [],
   "source": [
    "x_vals=np.array([x[0:3] for x in iris.data])\n",
    "y_vals=np.array([x[3] for x in iris.data])\n",
    "sess=tf.Session()"
   ]
  },
  {
   "cell_type": "code",
   "execution_count": 30,
   "metadata": {
    "collapsed": true
   },
   "outputs": [],
   "source": [
    "seed=2\n",
    "tf.set_random_seed(seed)\n",
    "np.random.seed(seed)"
   ]
  },
  {
   "cell_type": "code",
   "execution_count": 31,
   "metadata": {
    "collapsed": false,
    "scrolled": true
   },
   "outputs": [
    {
     "name": "stderr",
     "output_type": "stream",
     "text": [
      "/Users/edwin/anaconda/lib/python2.7/site-packages/ipykernel/__main__.py:1: VisibleDeprecationWarning: using a non-integer number instead of an integer will result in an error in the future\n",
      "  if __name__ == '__main__':\n"
     ]
    }
   ],
   "source": [
    "train_indices=np.random.choice(len(x_vals),round(len(x_vals)*0.8),replace=False)\n",
    "test_indices=np.array(list(set(range(len(x_vals)))-set(train_indices)))"
   ]
  },
  {
   "cell_type": "code",
   "execution_count": 32,
   "metadata": {
    "collapsed": true
   },
   "outputs": [],
   "source": [
    "x_vals_train=x_vals[train_indices]\n",
    "x_vals_test=x_vals[test_indices]\n",
    "y_vals_train=y_vals[train_indices]\n",
    "y_vals_test=y_vals[test_indices]\n",
    "def normalize_cols(m):\n",
    "    col_max=m.max(axis=0)\n",
    "    col_min=m.min(axis=0)\n",
    "    return (m-col_min)/(col_max-col_min)\n",
    "\n",
    "x_vals_train=np.nan_to_num(normalize_cols(x_vals_train))\n",
    "x_vals_test=np.nan_to_num(normalize_cols(x_vals_test))"
   ]
  },
  {
   "cell_type": "code",
   "execution_count": 33,
   "metadata": {
    "collapsed": false
   },
   "outputs": [],
   "source": [
    "batch_size=5\n",
    "x_data=tf.placeholder(shape=[None,3],dtype=tf.float32)\n",
    "y_target=tf.placeholder(shape=[None,1],dtype=tf.float32)"
   ]
  },
  {
   "cell_type": "markdown",
   "metadata": {},
   "source": [
    "### begin to create neural network models"
   ]
  },
  {
   "cell_type": "code",
   "execution_count": 34,
   "metadata": {
    "collapsed": true
   },
   "outputs": [],
   "source": [
    "hidden_layer_nodes = 5\n",
    "A1=tf.Variable(tf.random_normal(shape=[3,hidden_layer_nodes]))\n",
    "b1=tf.Variable(tf.random_normal(shape=[hidden_layer_nodes]))\n",
    "A2=tf.Variable(tf.random_normal(shape=[hidden_layer_nodes,1]))\n",
    "b2=tf.Variable(tf.random_normal(shape=[1]))"
   ]
  },
  {
   "cell_type": "code",
   "execution_count": 35,
   "metadata": {
    "collapsed": true
   },
   "outputs": [],
   "source": [
    "hidden_output=tf.nn.relu(tf.add(tf.matmul(x_data,A1),b1))\n",
    "final_output=tf.nn.relu(tf.add(tf.matmul(hidden_output,A2),b2))"
   ]
  },
  {
   "cell_type": "code",
   "execution_count": 36,
   "metadata": {
    "collapsed": true
   },
   "outputs": [],
   "source": [
    "loss=tf.reduce_mean(tf.square(y_target-final_output))"
   ]
  },
  {
   "cell_type": "code",
   "execution_count": 37,
   "metadata": {
    "collapsed": false
   },
   "outputs": [],
   "source": [
    "my_opt=tf.train.GradientDescentOptimizer(0.005)\n",
    "train_step=my_opt.minimize(loss)\n",
    "init=tf.global_variables_initializer()\n",
    "sess.run(init)"
   ]
  },
  {
   "cell_type": "markdown",
   "metadata": {},
   "source": [
    "### train model"
   ]
  },
  {
   "cell_type": "code",
   "execution_count": 38,
   "metadata": {
    "collapsed": false
   },
   "outputs": [
    {
     "name": "stdout",
     "output_type": "stream",
     "text": [
      "Generation: 50 .Loss= 2.06\n",
      "Generation: 100 .Loss= 4.034\n",
      "Generation: 150 .Loss= 0.62\n",
      "Generation: 200 .Loss= 2.972\n",
      "Generation: 250 .Loss= 1.7\n",
      "Generation: 300 .Loss= 1.55\n",
      "Generation: 350 .Loss= 1.146\n",
      "Generation: 400 .Loss= 3.226\n",
      "Generation: 450 .Loss= 2.988\n",
      "Generation: 500 .Loss= 1.73\n"
     ]
    }
   ],
   "source": [
    "# First we initialize the loss vectors from storage\n",
    "loss_vec=[]\n",
    "test_loss=[]\n",
    "for i in range(500):\n",
    "    # First we select a random set of indices fro the batch\n",
    "    rand_index=np.random.choice(len(x_vals_train),size=batch_size)\n",
    "    \n",
    "    # We then select the training values\n",
    "    rand_x = x_vals_train[rand_index]\n",
    "    rand_y = np.transpose([y_vals_train[rand_index]])\n",
    "    \n",
    "    # Now we run the training step\n",
    "    sess.run(train_step,feed_dict={x_data:rand_x,y_target:rand_y})\n",
    "    \n",
    "    # we save the training loss\n",
    "    temp_loss=sess.run(loss,feed_dict={x_data:rand_x,y_target:rand_y})\n",
    "    \n",
    "    loss_vec.append(np.sqrt(temp_loss))\n",
    "    \n",
    "    # Finally, we run the test-set loss and save\n",
    "    \n",
    "    test_temp_loss=sess.run(loss,feed_dict={x_data:x_vals_test,y_target:np.transpose([y_vals_test])})\n",
    "    \n",
    "    test_loss.append(np.sqrt(test_temp_loss))\n",
    "        \n",
    "    if (i+1)%50==0:\n",
    "        print('Generation: '+ str(i+1) + ' .Loss= ' + str(temp_loss))"
   ]
  },
  {
   "cell_type": "code",
   "execution_count": 39,
   "metadata": {
    "collapsed": false,
    "scrolled": true
   },
   "outputs": [
    {
     "data": {
      "image/png": "[encoded data removed]",
      "text/plain": [
       "<matplotlib.figure.Figure at 0x10f8e1f90>"
      ]
     },
     "metadata": {},
     "output_type": "display_data"
    }
   ],
   "source": [
    "plt.plot(loss_vec, 'k-', label='Train Loss')\n",
    "plt.plot(test_loss, 'r--', label='Test Loss')\n",
    "plt.title('Loss (MSE) per Generation')\n",
    "plt.xlabel('Generation')\n",
    "plt.ylabel('Loss')\n",
    "plt.legend(loc='upper right')\n",
    "plt.show()"
   ]
  },
  {
   "cell_type": "code",
   "execution_count": null,
   "metadata": {
    "collapsed": true
   },
   "outputs": [],
   "source": [
    "# Something looks wired for the training data and test loss"
   ]
  }
 ],
 "metadata": {
  "kernelspec": {
   "display_name": "Python 2",
   "language": "python",
   "name": "python2"
  },
  "language_info": {
   "codemirror_mode": {
    "name": "ipython",
    "version": 2
   },
   "file_extension": ".py",
   "mimetype": "text/x-python",
   "name": "python",
   "nbconvert_exporter": "python",
   "pygments_lexer": "ipython2",
   "version": "2.7.13"
  }
 },
 "nbformat": 4,
 "nbformat_minor": 2
}
