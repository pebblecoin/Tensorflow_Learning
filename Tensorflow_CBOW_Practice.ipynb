{
 "cells": [
  {
   "cell_type": "code",
   "execution_count": 1,
   "metadata": {
    "collapsed": true
   },
   "outputs": [],
   "source": [
    "import tensorflow as tf\n",
    "import matplotlib.pyplot as plt\n",
    "import numpy as np\n",
    "import random\n",
    "import os\n",
    "import string\n",
    "import io\n",
    "import collections\n",
    "import urllib2\n",
    "from nltk.corpus import stopwords"
   ]
  },
  {
   "cell_type": "code",
   "execution_count": 2,
   "metadata": {
    "collapsed": true
   },
   "outputs": [],
   "source": [
    "sess=tf.Session()"
   ]
  },
  {
   "cell_type": "code",
   "execution_count": 77,
   "metadata": {
    "collapsed": true
   },
   "outputs": [],
   "source": [
    "batch_size=50\n",
    "embedding_size=200\n",
    "vocabulary_size=10000\n",
    "generations=50000\n",
    "model_learning_rate = 0.001 # Learning rate\n",
    "print_loss_every=500\n",
    "num_sampled=int(batch_size/2)\n",
    "window_size=2\n",
    "stops=stopwords.words('english')\n",
    "print_valid_every=2000\n",
    "valid_words=['cliche','love','hate','silly','sad']"
   ]
  },
  {
   "cell_type": "code",
   "execution_count": 4,
   "metadata": {
    "collapsed": true
   },
   "outputs": [],
   "source": [
    "pos=open('temp/rt-polaritydata/rt-polarity.pos','r')\n",
    "neg=open('temp/rt-polaritydata/rt-polarity.neg','r')"
   ]
  },
  {
   "cell_type": "code",
   "execution_count": 5,
   "metadata": {
    "collapsed": true
   },
   "outputs": [],
   "source": [
    "pos_data=[]\n",
    "neg_data=[]"
   ]
  },
  {
   "cell_type": "code",
   "execution_count": 6,
   "metadata": {
    "collapsed": true
   },
   "outputs": [],
   "source": [
    "for line in pos:\n",
    "    pos_data.append(line.decode('ISO-8859-1').encode('utf-8',errors='ignore').decode('utf-8'))"
   ]
  },
  {
   "cell_type": "code",
   "execution_count": 7,
   "metadata": {
    "collapsed": true
   },
   "outputs": [],
   "source": [
    "for line in neg:\n",
    "    neg_data.append(line.decode('ISO-8859-1').encode('utf-8',errors='ignore').decode('utf-8'))"
   ]
  },
  {
   "cell_type": "code",
   "execution_count": 9,
   "metadata": {
    "collapsed": true
   },
   "outputs": [],
   "source": [
    "texts=pos_data+neg_data"
   ]
  },
  {
   "cell_type": "code",
   "execution_count": 10,
   "metadata": {
    "collapsed": true
   },
   "outputs": [],
   "source": [
    "target=[1]*len(pos_data)+[0]*len(neg_data)"
   ]
  },
  {
   "cell_type": "code",
   "execution_count": 11,
   "metadata": {
    "collapsed": true
   },
   "outputs": [],
   "source": [
    "def normalize_text(texts,stops):\n",
    "    # This is the function that we use to normalize the texts\n",
    "    # Lower all the cases\n",
    "    texts=[x.lower() for x in texts]\n",
    "    # Remove all the punctuation\n",
    "    texts=[''.join(c for c in x if c not in string.punctuation) for x in texts]\n",
    "    # Remove all the stops words\n",
    "    texts=[' '.join([word for word in x.split() if word not in stops]) for x in texts]\n",
    "    # Remove numbers\n",
    "    texts=[''.join(c for c in x if c not in '0123456789') for x in texts]\n",
    "    # Remove extra white space\n",
    "    texts=[' '.join(x.split()) for x in texts]\n",
    "    return texts\n",
    "texts=normalize_text(texts,stops)"
   ]
  },
  {
   "cell_type": "code",
   "execution_count": 12,
   "metadata": {
    "collapsed": true
   },
   "outputs": [],
   "source": [
    "# To make sure all the movies are informative, here we only kept the longer sentences\n",
    "target = [target[ix] for ix,x in enumerate(texts) if len(x.split())>2]\n",
    "texts = [x for x in texts if len(x.split())>2]"
   ]
  },
  {
   "cell_type": "code",
   "execution_count": 13,
   "metadata": {
    "collapsed": true
   },
   "outputs": [],
   "source": [
    "split_sentences = [s.split() for s in texts]\n",
    "words = [x for sublist in split_sentences for x in sublist]"
   ]
  },
  {
   "cell_type": "code",
   "execution_count": 14,
   "metadata": {
    "collapsed": true
   },
   "outputs": [],
   "source": [
    "count=[['RARE',-1]]\n",
    "count.extend(collections.Counter(words).most_common(vocabulary_size-1))"
   ]
  },
  {
   "cell_type": "code",
   "execution_count": 15,
   "metadata": {
    "collapsed": true
   },
   "outputs": [],
   "source": [
    "word_dict={}\n",
    "for word,word_count in count:\n",
    "    word_dict[word]=len(word_dict)"
   ]
  },
  {
   "cell_type": "code",
   "execution_count": 16,
   "metadata": {
    "collapsed": true
   },
   "outputs": [],
   "source": [
    "def build_dictionary(sentences,vocabulary_size):\n",
    "    # create sentences into list of words\n",
    "    split_sentences = [s.split() for s in sentences]\n",
    "    words = [x for sublist in split_sentences for x in sublist]\n",
    "    count=[['RARE',-1]]\n",
    "    count.extend(collections.Counter(words).most_common(vocabulary_size-1))\n",
    "    word_dict={}\n",
    "    for word,word_count in count:\n",
    "        word_dict=len(word_dict)\n",
    "    return word_dict"
   ]
  },
  {
   "cell_type": "code",
   "execution_count": 17,
   "metadata": {
    "collapsed": true
   },
   "outputs": [],
   "source": [
    "# Here we create sentence into numbers so we can use it for later training\n",
    "def text_to_numbers(sentences,word_dict):\n",
    "    data=[]\n",
    "    for sentence in sentences:\n",
    "        temp=[]\n",
    "        for word in sentence:\n",
    "            if word in word_dict:\n",
    "                word_ix=word_dict[word]\n",
    "            else:\n",
    "                word_ix=0\n",
    "            temp.append(word_ix)\n",
    "        data.append(temp)\n",
    "    return(data)"
   ]
  },
  {
   "cell_type": "code",
   "execution_count": 19,
   "metadata": {
    "collapsed": false
   },
   "outputs": [],
   "source": [
    "word_dictionary=word_dict"
   ]
  },
  {
   "cell_type": "code",
   "execution_count": 20,
   "metadata": {
    "collapsed": true
   },
   "outputs": [],
   "source": [
    "word_dictionary_rev=dict(zip(word_dictionary.values(),word_dictionary.keys()))"
   ]
  },
  {
   "cell_type": "code",
   "execution_count": 22,
   "metadata": {
    "collapsed": true
   },
   "outputs": [],
   "source": [
    "text_data=text_to_numbers(texts,word_dictionary)"
   ]
  },
  {
   "cell_type": "code",
   "execution_count": 23,
   "metadata": {
    "collapsed": true
   },
   "outputs": [],
   "source": [
    "valid_examples=[word_dictionary[x] for x in valid_words]"
   ]
  },
  {
   "cell_type": "code",
   "execution_count": 62,
   "metadata": {
    "collapsed": true
   },
   "outputs": [],
   "source": [
    "window_size=2"
   ]
  },
  {
   "cell_type": "code",
   "execution_count": 63,
   "metadata": {
    "collapsed": false
   },
   "outputs": [],
   "source": [
    "rand_sentence=np.random.choice(text_data)\n",
    "#generate consecutive window to look at\n",
    "window_sequences=[rand_sentence[max(ix-window_size,0):(ix+window_size+1)] for ix,x in enumerate(rand_sentence)]\n",
    "label_indices=[ix if ix<window_size else window_size for ix,x in enumerate(window_sequences)]"
   ]
  },
  {
   "cell_type": "code",
   "execution_count": 69,
   "metadata": {
    "collapsed": true
   },
   "outputs": [],
   "source": [
    "batch_and_labels=[(x[y],x[:y]+x[(y+1):]) for x,y in zip(window_sequences,label_indices)]\n",
    "tuple_data=[(x,y_) for x,y in batch_and_labels for y_ in y]\n",
    "batch,labels = [list(x) for x in zip(*tuple_data)]"
   ]
  },
  {
   "cell_type": "code",
   "execution_count": 64,
   "metadata": {
    "collapsed": true
   },
   "outputs": [],
   "source": [
    "batch_and_labels=[(x[:y]+x[(y+1):],x[y]) for x,y in zip(window_sequences,label_indices)]\n",
    "tuple_data=[(x,y) for x,y in batch_and_labels if len(x)==2*window_size]\n",
    "batch,labels = [list(x) for x in zip(*tuple_data)]"
   ]
  },
  {
   "cell_type": "code",
   "execution_count": 73,
   "metadata": {
    "collapsed": true
   },
   "outputs": [],
   "source": [
    "# Now we need to create skip-gram batches\n",
    "def generate_batch_data(sentences, batch_size,window_size,method='skip-gram'):\n",
    "    # Fill out the batch\n",
    "    batch_data=[]\n",
    "    label_data=[]\n",
    "    while len(batch_data)<batch_size:\n",
    "        rand_sentence=np.random.choice(sentences)\n",
    "        #generate consecutive window to look at\n",
    "        window_sequences=[rand_sentence[max(ix-window_size,0):(ix+window_size+1)] for ix,x in enumerate(rand_sentence)]\n",
    "        label_indices=[ix if ix<window_size else window_size for ix,x in enumerate(window_sequences)]\n",
    "        if method=='skip-gram':\n",
    "            batch_and_labels=[(x[y],x[:y]+x[(y+1):]) for x,y in zip(window_sequences,label_indices)]\n",
    "            tuple_data=[(x,y_) for x,y in batch_and_labels for y_ in y]\n",
    "            batch,labels = [list(x) for x in zip(*tuple_data)]\n",
    "        elif method=='cbow':\n",
    "            batch_and_labels=[(x[:y]+x[(y+1):],x[y]) for x,y in zip(window_sequences,label_indices)]\n",
    "            tuple_data=[(x,y) for x,y in batch_and_labels if len(x)==2*window_size]\n",
    "            batch,labels = [list(x) for x in zip(*tuple_data)]\n",
    "        #extract batch and labels\n",
    "        batch_data.extend(batch[:batch_size])\n",
    "        label_data.extend(labels[:batch_size])\n",
    "    batch_data=batch_data[:batch_size]\n",
    "    label_data=label_data[:batch_size]\n",
    "    \n",
    "    batch_data=np.array(batch_data)\n",
    "    label_data=np.array(np.array([label_data]))\n",
    "    \n",
    "    return (batch_data,label_data)"
   ]
  },
  {
   "cell_type": "code",
   "execution_count": 75,
   "metadata": {
    "collapsed": false
   },
   "outputs": [
    {
     "name": "stdout",
     "output_type": "stream",
     "text": [
      "Creating Model\n"
     ]
    }
   ],
   "source": [
    "print('Creating Model')\n",
    "embeddings = tf.Variable(tf.random_uniform([vocabulary_size,embedding_size],-1.0,1.0))\n",
    "\n",
    "# Nce loss parameters\n",
    "nce_weights = tf.Variable(tf.truncated_normal([vocabulary_size,embedding_size],stddev=1.0/np.sqrt(embedding_size)))\n",
    "nce_biases = tf.Variable(tf.zeros([vocabulary_size]))\n",
    "\n",
    "# Create data/target placeholders\n",
    "x_inputs = tf.placeholder(tf.int32,shape=[batch_size,2*window_size])\n",
    "y_target = tf.placeholder(tf.int32,shape=[batch_size,1])\n",
    "valid_dataset = tf.constant(valid_examples,dtype=tf.int32)\n",
    "\n",
    "# Lookup the word embedding\n",
    "# Add together window embeddings:\n",
    "embed=tf.zeros([batch_size,embedding_size])\n",
    "for element in range(2*window_size):\n",
    "    embed+=tf.nn.embedding_lookup(embeddings,x_inputs[:,element])"
   ]
  },
  {
   "cell_type": "code",
   "execution_count": 78,
   "metadata": {
    "collapsed": false
   },
   "outputs": [],
   "source": [
    "# Get loss from prediction\n",
    "loss = tf.reduce_mean(tf.nn.nce_loss(weights=nce_weights,\n",
    "                                     biases=nce_biases,\n",
    "                                     labels=y_target,\n",
    "                                     inputs=embed,\n",
    "                                     num_sampled=num_sampled,\n",
    "                                     num_classes=vocabulary_size))\n",
    "# Create optimizer\n",
    "optimizer = tf.train.GradientDescentOptimizer(learning_rate=model_learning_rate).minimize(loss)\n",
    "\n",
    "# Cosine similarity between words\n",
    "norm = tf.sqrt(tf.reduce_sum(tf.square(embeddings), 1, keep_dims=True))\n",
    "normalized_embeddings = embeddings / norm\n",
    "valid_embeddings = tf.nn.embedding_lookup(normalized_embeddings, valid_dataset)\n",
    "similarity = tf.matmul(valid_embeddings, normalized_embeddings, transpose_b=True)"
   ]
  },
  {
   "cell_type": "code",
   "execution_count": 79,
   "metadata": {
    "collapsed": true
   },
   "outputs": [],
   "source": [
    "# Create model saving operation\n",
    "saver = tf.train.Saver({\"embeddings\": embeddings})\n",
    "\n",
    "#Add variable initializer.\n",
    "init = tf.global_variables_initializer()\n",
    "sess.run(init)"
   ]
  },
  {
   "cell_type": "code",
   "execution_count": 80,
   "metadata": {
    "collapsed": true
   },
   "outputs": [],
   "source": [
    "# Filter out sentences that aren't long enough:\n",
    "text_data = [x for x in text_data if len(x)>=(2*window_size+1)]"
   ]
  },
  {
   "cell_type": "code",
   "execution_count": 82,
   "metadata": {
    "collapsed": false,
    "scrolled": false
   },
   "outputs": [
    {
     "name": "stdout",
     "output_type": "stream",
     "text": [
      "Starting Training\n",
      "Loss at step 500 : 77.1532287598\n",
      "Loss at step 1000 : 53.1226654053\n",
      "Loss at step 1500 : 78.4160766602\n",
      "Loss at step 2000 : 74.4537963867\n",
      "Nearest to cliche: tonal, asia, terrible, instantly, reasons,\n",
      "Nearest to love: tickets, sara, respite, changed, lick,\n",
      "Nearest to hate: olivier, clubs, mockumentary, careful, b,\n",
      "Nearest to silly: durable, scifi, tackling, consummate, monty,\n",
      "Nearest to sad: confessions, discerned, massive, zhao, previously,\n",
      "Loss at step 2500 : 45.5425567627\n",
      "Loss at step 3000 : 34.4220275879\n",
      "Loss at step 3500 : 36.7954788208\n",
      "Loss at step 4000 : 34.6438179016\n",
      "Nearest to cliche: tonal, asia, terrible, instantly, reasons,\n",
      "Nearest to love: tickets, sara, respite, changed, lick,\n",
      "Nearest to hate: olivier, clubs, mockumentary, careful, b,\n",
      "Nearest to silly: durable, scifi, tackling, consummate, monty,\n",
      "Nearest to sad: confessions, discerned, massive, zhao, previously,\n",
      "Loss at step 4500 : 30.678062439\n",
      "Loss at step 5000 : 20.4906959534\n",
      "Loss at step 5500 : 21.7277812958\n",
      "Loss at step 6000 : 29.6749687195\n",
      "Nearest to cliche: tonal, asia, terrible, instantly, reasons,\n",
      "Nearest to love: tickets, sara, respite, changed, lick,\n",
      "Nearest to hate: olivier, clubs, mockumentary, b, careful,\n",
      "Nearest to silly: durable, scifi, tackling, consummate, monty,\n",
      "Nearest to sad: confessions, discerned, massive, zhao, previously,\n",
      "Loss at step 6500 : 15.7354507446\n",
      "Loss at step 7000 : 20.4458770752\n",
      "Loss at step 7500 : 12.9583568573\n",
      "Loss at step 8000 : 25.4583244324\n",
      "Nearest to cliche: tonal, asia, terrible, instantly, reasons,\n",
      "Nearest to love: tickets, sara, respite, changed, lick,\n",
      "Nearest to hate: olivier, clubs, mockumentary, b, careful,\n",
      "Nearest to silly: durable, scifi, tackling, consummate, monty,\n",
      "Nearest to sad: confessions, discerned, massive, zhao, previously,\n",
      "Loss at step 8500 : 17.0363121033\n",
      "Loss at step 9000 : 23.8466033936\n",
      "Loss at step 9500 : 10.7967214584\n",
      "Loss at step 10000 : 5.03619146347\n",
      "Nearest to cliche: tonal, asia, terrible, instantly, reasons,\n",
      "Nearest to love: tickets, sara, respite, changed, lick,\n",
      "Nearest to hate: olivier, clubs, mockumentary, b, careful,\n",
      "Nearest to silly: durable, scifi, tackling, consummate, monty,\n",
      "Nearest to sad: confessions, discerned, massive, zhao, previously,\n",
      "Loss at step 10500 : 22.5185394287\n",
      "Loss at step 11000 : 16.9050559998\n",
      "Loss at step 11500 : 8.47124195099\n",
      "Loss at step 12000 : 8.41883277893\n",
      "Nearest to cliche: tonal, asia, terrible, instantly, reasons,\n",
      "Nearest to love: tickets, sara, respite, changed, lick,\n",
      "Nearest to hate: olivier, clubs, mockumentary, b, careful,\n",
      "Nearest to silly: durable, scifi, tackling, consummate, monty,\n",
      "Nearest to sad: confessions, discerned, massive, zhao, previously,\n",
      "Loss at step 12500 : 4.47679710388\n",
      "Loss at step 13000 : 9.68424129486\n",
      "Loss at step 13500 : 10.5167093277\n",
      "Loss at step 14000 : 7.64524650574\n",
      "Nearest to cliche: tonal, asia, terrible, instantly, reasons,\n",
      "Nearest to love: tickets, sara, respite, changed, lick,\n",
      "Nearest to hate: olivier, clubs, mockumentary, b, careful,\n",
      "Nearest to silly: durable, scifi, tackling, consummate, monty,\n",
      "Nearest to sad: confessions, discerned, massive, zhao, previously,\n",
      "Loss at step 14500 : 14.365776062\n",
      "Loss at step 15000 : 9.11362075806\n",
      "Loss at step 15500 : 7.25494003296\n",
      "Loss at step 16000 : 4.91007852554\n",
      "Nearest to cliche: tonal, asia, terrible, instantly, reasons,\n",
      "Nearest to love: tickets, sara, respite, changed, lick,\n",
      "Nearest to hate: olivier, clubs, mockumentary, b, careful,\n",
      "Nearest to silly: durable, scifi, tackling, consummate, monty,\n",
      "Nearest to sad: confessions, discerned, massive, zhao, previously,\n",
      "Loss at step 16500 : 5.53801345825\n",
      "Loss at step 17000 : 3.71858692169\n",
      "Loss at step 17500 : 9.37039089203\n",
      "Loss at step 18000 : 7.85295057297\n",
      "Nearest to cliche: tonal, asia, terrible, instantly, reasons,\n",
      "Nearest to love: tickets, sara, respite, changed, lick,\n",
      "Nearest to hate: olivier, clubs, mockumentary, b, careful,\n",
      "Nearest to silly: durable, scifi, tackling, consummate, monty,\n",
      "Nearest to sad: confessions, discerned, massive, zhao, previously,\n",
      "Loss at step 18500 : 7.90111875534\n",
      "Loss at step 19000 : 2.95204496384\n",
      "Loss at step 19500 : 2.58641529083\n",
      "Loss at step 20000 : 8.01864910126\n",
      "Nearest to cliche: tonal, asia, terrible, instantly, reasons,\n",
      "Nearest to love: tickets, sara, respite, changed, lick,\n",
      "Nearest to hate: olivier, clubs, b, mockumentary, careful,\n",
      "Nearest to silly: durable, scifi, tackling, consummate, monty,\n",
      "Nearest to sad: confessions, discerned, massive, zhao, previously,\n",
      "Loss at step 20500 : 4.1288819313\n",
      "Loss at step 21000 : 3.05585169792\n",
      "Loss at step 21500 : 3.98587989807\n",
      "Loss at step 22000 : 4.03593397141\n",
      "Nearest to cliche: tonal, asia, terrible, instantly, reasons,\n",
      "Nearest to love: tickets, sara, respite, changed, lick,\n",
      "Nearest to hate: olivier, clubs, b, mockumentary, careful,\n",
      "Nearest to silly: durable, scifi, tackling, consummate, monty,\n",
      "Nearest to sad: confessions, discerned, massive, zhao, previously,\n",
      "Loss at step 22500 : 5.73652267456\n",
      "Loss at step 23000 : 3.4385535717\n",
      "Loss at step 23500 : 2.36483287811\n",
      "Loss at step 24000 : 3.70701885223\n",
      "Nearest to cliche: tonal, asia, terrible, instantly, reasons,\n",
      "Nearest to love: tickets, sara, respite, changed, lick,\n",
      "Nearest to hate: olivier, clubs, b, mockumentary, careful,\n",
      "Nearest to silly: durable, scifi, tackling, consummate, monty,\n",
      "Nearest to sad: confessions, discerned, massive, zhao, previously,\n",
      "Loss at step 24500 : 7.186419487\n",
      "Loss at step 25000 : 1.13845968246\n",
      "Loss at step 25500 : 2.77135467529\n",
      "Loss at step 26000 : 3.85021829605\n",
      "Nearest to cliche: tonal, asia, terrible, instantly, reasons,\n",
      "Nearest to love: tickets, sara, respite, changed, lick,\n",
      "Nearest to hate: olivier, clubs, b, mockumentary, careful,\n",
      "Nearest to silly: durable, scifi, tackling, consummate, monty,\n",
      "Nearest to sad: confessions, discerned, massive, zhao, previously,\n",
      "Loss at step 26500 : 6.49185323715\n",
      "Loss at step 27000 : 2.24171352386\n",
      "Loss at step 27500 : 2.13002109528\n",
      "Loss at step 28000 : 0.988833487034\n",
      "Nearest to cliche: tonal, asia, terrible, instantly, reasons,\n",
      "Nearest to love: tickets, sara, respite, changed, lick,\n",
      "Nearest to hate: olivier, clubs, b, mockumentary, careful,\n",
      "Nearest to silly: durable, scifi, tackling, consummate, monty,\n",
      "Nearest to sad: confessions, discerned, massive, zhao, previously,\n",
      "Loss at step 28500 : 2.76306605339\n",
      "Loss at step 29000 : 1.30234360695\n",
      "Loss at step 29500 : 7.56030464172\n",
      "Loss at step 30000 : 4.43809080124\n",
      "Nearest to cliche: tonal, asia, terrible, instantly, reasons,\n",
      "Nearest to love: tickets, sara, respite, changed, lick,\n",
      "Nearest to hate: olivier, clubs, b, mockumentary, careful,\n",
      "Nearest to silly: durable, scifi, tackling, consummate, monty,\n",
      "Nearest to sad: confessions, discerned, massive, zhao, previously,\n",
      "Loss at step 30500 : 2.01027822495\n",
      "Loss at step 31000 : 2.66091370583\n",
      "Loss at step 31500 : 1.15966939926\n",
      "Loss at step 32000 : 2.0585000515\n",
      "Nearest to cliche: tonal, asia, terrible, instantly, reasons,\n",
      "Nearest to love: tickets, sara, respite, changed, lick,\n",
      "Nearest to hate: olivier, clubs, b, mockumentary, careful,\n",
      "Nearest to silly: durable, scifi, tackling, consummate, monty,\n",
      "Nearest to sad: confessions, discerned, massive, zhao, previously,\n",
      "Loss at step 32500 : 3.5971570015\n",
      "Loss at step 33000 : 8.35609722137\n",
      "Loss at step 33500 : 2.10212182999\n",
      "Loss at step 34000 : 3.48468708992\n",
      "Nearest to cliche: tonal, asia, terrible, instantly, reasons,\n",
      "Nearest to love: tickets, sara, respite, changed, lick,\n",
      "Nearest to hate: olivier, b, clubs, mockumentary, careful,\n",
      "Nearest to silly: durable, scifi, tackling, consummate, monty,\n",
      "Nearest to sad: confessions, discerned, massive, zhao, previously,\n",
      "Loss at step 34500 : 1.31312131882\n",
      "Loss at step 35000 : 1.34013271332\n",
      "Loss at step 35500 : 4.62646532059\n",
      "Loss at step 36000 : 2.96314930916\n",
      "Nearest to cliche: tonal, asia, terrible, instantly, reasons,\n",
      "Nearest to love: tickets, sara, respite, changed, lick,\n",
      "Nearest to hate: olivier, b, clubs, mockumentary, careful,\n",
      "Nearest to silly: durable, scifi, tackling, consummate, monty,\n",
      "Nearest to sad: confessions, discerned, massive, zhao, previously,\n",
      "Loss at step 36500 : 1.16820788383\n",
      "Loss at step 37000 : 3.47824549675\n",
      "Loss at step 37500 : 0.691286087036\n",
      "Loss at step 38000 : 0.959910869598\n",
      "Nearest to cliche: tonal, asia, terrible, instantly, reasons,\n",
      "Nearest to love: tickets, sara, respite, changed, lick,\n",
      "Nearest to hate: olivier, b, clubs, mockumentary, careful,\n",
      "Nearest to silly: durable, scifi, tackling, consummate, monty,\n",
      "Nearest to sad: confessions, discerned, massive, zhao, previously,\n",
      "Loss at step 38500 : 1.57126057148\n",
      "Loss at step 39000 : 1.12792515755\n",
      "Loss at step 39500 : 2.02278804779\n",
      "Loss at step 40000 : 0.885532736778\n",
      "Nearest to cliche: tonal, asia, terrible, instantly, reasons,\n",
      "Nearest to love: tickets, sara, respite, changed, lick,\n",
      "Nearest to hate: olivier, b, clubs, mockumentary, careful,\n",
      "Nearest to silly: durable, scifi, tackling, consummate, monty,\n",
      "Nearest to sad: confessions, discerned, massive, zhao, previously,\n",
      "Loss at step 40500 : 2.27590632439\n",
      "Loss at step 41000 : 3.18125152588\n",
      "Loss at step 41500 : 1.67457211018\n",
      "Loss at step 42000 : 2.24508929253\n",
      "Nearest to cliche: tonal, asia, terrible, instantly, reasons,\n",
      "Nearest to love: tickets, sara, respite, changed, lick,\n",
      "Nearest to hate: olivier, b, clubs, mockumentary, careful,\n",
      "Nearest to silly: durable, scifi, tackling, consummate, monty,\n",
      "Nearest to sad: confessions, discerned, massive, zhao, previously,\n",
      "Loss at step 42500 : 1.23064935207\n",
      "Loss at step 43000 : 1.74017119408\n",
      "Loss at step 43500 : 1.19881808758\n",
      "Loss at step 44000 : 1.61814618111\n",
      "Nearest to cliche: tonal, asia, terrible, instantly, reasons,\n",
      "Nearest to love: tickets, sara, respite, changed, lick,\n",
      "Nearest to hate: olivier, b, clubs, mockumentary, careful,\n",
      "Nearest to silly: durable, scifi, tackling, consummate, monty,\n",
      "Nearest to sad: confessions, discerned, massive, zhao, previously,\n",
      "Loss at step 44500 : 1.95188105106\n",
      "Loss at step 45000 : 1.75101161003\n",
      "Loss at step 45500 : 1.1662248373\n",
      "Loss at step 46000 : 1.37676310539\n",
      "Nearest to cliche: tonal, asia, terrible, instantly, reasons,\n",
      "Nearest to love: tickets, sara, respite, changed, lick,\n",
      "Nearest to hate: b, olivier, clubs, mockumentary, careful,\n",
      "Nearest to silly: durable, scifi, tackling, consummate, monty,\n",
      "Nearest to sad: confessions, discerned, massive, zhao, previously,\n",
      "Loss at step 46500 : 1.19749224186\n",
      "Loss at step 47000 : 1.45844888687\n",
      "Loss at step 47500 : 1.00227475166\n",
      "Loss at step 48000 : 1.56993722916\n",
      "Nearest to cliche: tonal, asia, terrible, instantly, reasons,\n",
      "Nearest to love: tickets, sara, respite, changed, lick,\n",
      "Nearest to hate: b, olivier, clubs, mockumentary, careful,\n",
      "Nearest to silly: durable, scifi, tackling, consummate, monty,\n",
      "Nearest to sad: confessions, discerned, massive, zhao, previously,\n",
      "Loss at step 48500 : 1.72720754147\n",
      "Loss at step 49000 : 2.05157017708\n",
      "Loss at step 49500 : 1.54731249809\n",
      "Loss at step 50000 : 1.16096532345\n",
      "Nearest to cliche: tonal, asia, terrible, instantly, reasons,\n",
      "Nearest to love: tickets, sara, respite, changed, lick,\n",
      "Nearest to hate: b, olivier, clubs, mockumentary, careful,\n",
      "Nearest to silly: durable, scifi, tackling, consummate, monty,\n",
      "Nearest to sad: confessions, discerned, massive, zhao, previously,\n"
     ]
    }
   ],
   "source": [
    "# Run the CBOW model.\n",
    "print('Starting Training')\n",
    "loss_vec = []\n",
    "loss_x_vec = []\n",
    "for i in range(generations):\n",
    "    batch_inputs, batch_labels = generate_batch_data(text_data, batch_size,\n",
    "                                                                  window_size, method='cbow')\n",
    "    feed_dict = {x_inputs : batch_inputs, y_target : np.transpose(batch_labels)}\n",
    "\n",
    "    # Run the train step\n",
    "    sess.run(optimizer, feed_dict=feed_dict)\n",
    "\n",
    "    # Return the loss\n",
    "    if (i+1) % print_loss_every == 0:\n",
    "        loss_val = sess.run(loss, feed_dict=feed_dict)\n",
    "        loss_vec.append(loss_val)\n",
    "        loss_x_vec.append(i+1)\n",
    "        print('Loss at step {} : {}'.format(i+1, loss_val))\n",
    "      \n",
    "    # Validation: Print some random words and top 5 related words\n",
    "    if (i+1) % print_valid_every == 0:\n",
    "        sim = sess.run(similarity, feed_dict=feed_dict)\n",
    "        for j in range(len(valid_words)):\n",
    "            valid_word = word_dictionary_rev[valid_examples[j]]\n",
    "            top_k = 5 # number of nearest neighbors\n",
    "            nearest = (-sim[j, :]).argsort()[1:top_k+1]\n",
    "            log_str = \"Nearest to {}:\".format(valid_word)\n",
    "            for k in range(top_k):\n",
    "                close_word = word_dictionary_rev[nearest[k]]\n",
    "                log_str = '{} {},' .format(log_str, close_word)\n",
    "            print(log_str)"
   ]
  },
  {
   "cell_type": "code",
   "execution_count": 83,
   "metadata": {
    "collapsed": false
   },
   "outputs": [
    {
     "data": {
      "image/png": "[encoded data removed]",
      "text/plain": [
       "<matplotlib.figure.Figure at 0x11ef79390>"
      ]
     },
     "metadata": {},
     "output_type": "display_data"
    }
   ],
   "source": [
    "# Plot loss over time\n",
    "plt.plot(loss_x_vec, loss_vec, 'k-')\n",
    "plt.title('Training Loss per Generation')\n",
    "plt.xlabel('Generation')\n",
    "plt.ylabel('Loss')\n",
    "plt.show()"
   ]
  }
 ],
 "metadata": {
  "kernelspec": {
   "display_name": "Python 2",
   "language": "python",
   "name": "python2"
  },
  "language_info": {
   "codemirror_mode": {
    "name": "ipython",
    "version": 2
   },
   "file_extension": ".py",
   "mimetype": "text/x-python",
   "name": "python",
   "nbconvert_exporter": "python",
   "pygments_lexer": "ipython2",
   "version": "2.7.13"
  }
 },
 "nbformat": 4,
 "nbformat_minor": 2
}
