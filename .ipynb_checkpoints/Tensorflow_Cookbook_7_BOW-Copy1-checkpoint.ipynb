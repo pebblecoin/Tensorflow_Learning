{
 "cells": [
  {
   "cell_type": "markdown",
   "metadata": {},
   "source": [
    "# Practise TF-IDF"
   ]
  },
  {
   "cell_type": "code",
   "execution_count": 9,
   "metadata": {
    "collapsed": true
   },
   "outputs": [],
   "source": [
    "import tensorflow as tf\n",
    "import matplotlib.pyplot as plt\n",
    "import csv\n",
    "import numpy as np\n",
    "import os\n",
    "import string\n",
    "import requests\n",
    "import io\n",
    "import nltk\n",
    "from zipfile import ZipFile\n",
    "from sklearn.feature_extraction.text import TfidfVectorizer"
   ]
  },
  {
   "cell_type": "code",
   "execution_count": 10,
   "metadata": {
    "collapsed": true
   },
   "outputs": [],
   "source": [
    "sess=tf.Session()\n",
    "batch_size=200\n",
    "max_features=1000"
   ]
  },
  {
   "cell_type": "code",
   "execution_count": 11,
   "metadata": {
    "collapsed": true
   },
   "outputs": [],
   "source": [
    "#load the data\n",
    "save_file_name=os.path.join('temp','temp_spam_data.csv')"
   ]
  },
  {
   "cell_type": "code",
   "execution_count": 15,
   "metadata": {
    "collapsed": false
   },
   "outputs": [],
   "source": [
    "if os.path.isfile(save_file_name):\n",
    "    text_data=[]\n",
    "    with open(save_file_name,'r') as temp_output_file:\n",
    "        reader=csv.reader(temp_output_file)\n",
    "        for row in reader:\n",
    "            text_data.append(row)\n",
    "else:\n",
    "    zip_url='http://archive.ics.uci.edu/ml/machine-learning-databases/00228/smsspamcollection.zip'\n",
    "    r=requests.get(zip_url)\n",
    "    z=ZipFile(io.BytesIO(r.content))\n",
    "    file=z.read('SMSSpamCollection')\n",
    "    #Format Data\n",
    "    text_data=file.decode('utf8','ignore')\n",
    "    text_data=text_data.encode('utf8',errors='ignore')\n",
    "    text_data=text_data.decode('utf8','ignore').split('\\n')\n",
    "    text_data=[x.split('\\t') for x in text_data if len(x)>=1]\n",
    "    \n",
    "    # and write to csv\n",
    "    with open(save_file_name,'w') as temp_output_file:\n",
    "        writer=csv.writer(temp_output_file)\n",
    "        writer.writerows(text_data)\n",
    "        \n",
    "texts=[x[1] for x in text_data]\n",
    "target=[x[0] for x in text_data]\n",
    "# relabel 'spam' as 1 'ham' as 0\n",
    "target=[1. if x=='spam' else 0. for x in target]"
   ]
  },
  {
   "cell_type": "code",
   "execution_count": null,
   "metadata": {
    "collapsed": true
   },
   "outputs": [],
   "source": []
  }
 ],
 "metadata": {
  "kernelspec": {
   "display_name": "Python 2",
   "language": "python",
   "name": "python2"
  },
  "language_info": {
   "codemirror_mode": {
    "name": "ipython",
    "version": 2
   },
   "file_extension": ".py",
   "mimetype": "text/x-python",
   "name": "python",
   "nbconvert_exporter": "python",
   "pygments_lexer": "ipython2",
   "version": "2.7.13"
  }
 },
 "nbformat": 4,
 "nbformat_minor": 2
}
