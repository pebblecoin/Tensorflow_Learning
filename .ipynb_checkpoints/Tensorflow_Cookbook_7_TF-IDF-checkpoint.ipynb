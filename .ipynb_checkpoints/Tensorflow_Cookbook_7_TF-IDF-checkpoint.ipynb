{
 "cells": [
  {
   "cell_type": "markdown",
   "metadata": {},
   "source": [
    "# TF-IDF"
   ]
  },
  {
   "cell_type": "code",
   "execution_count": 18,
   "metadata": {
    "collapsed": true
   },
   "outputs": [],
   "source": [
    "import tensorflow as tf\n",
    "import matplotlib.pyplot as plt\n",
    "import csv\n",
    "import numpy as np\n",
    "import os\n",
    "import string\n",
    "import requests\n",
    "import io\n",
    "import nltk\n",
    "from zipfile import ZipFile\n",
    "from sklearn.feature_extraction.text import TfidfVectorizer\n",
    "import unicodecsv"
   ]
  },
  {
   "cell_type": "code",
   "execution_count": 19,
   "metadata": {
    "collapsed": true
   },
   "outputs": [],
   "source": [
    "sess=tf.Session()\n",
    "batch_size=200\n",
    "max_features=1000"
   ]
  },
  {
   "cell_type": "code",
   "execution_count": 20,
   "metadata": {
    "collapsed": true
   },
   "outputs": [],
   "source": [
    "#load the data\n",
    "save_file_name=os.path.join('temp','temp_spam_data.csv')"
   ]
  },
  {
   "cell_type": "code",
   "execution_count": 21,
   "metadata": {
    "collapsed": false
   },
   "outputs": [],
   "source": [
    "if os.path.isfile(save_file_name):\n",
    "    text_data=[]\n",
    "    with open(save_file_name,'r') as temp_output_file:\n",
    "        reader=csv.reader(temp_output_file)\n",
    "        for row in reader:\n",
    "            text_data.append(row)\n",
    "else:\n",
    "    zip_url='http://archive.ics.uci.edu/ml/machine-learning-databases/00228/smsspamcollection.zip'\n",
    "    r=requests.get(zip_url)\n",
    "    z=ZipFile(io.BytesIO(r.content))\n",
    "    file=z.read('SMSSpamCollection')\n",
    "    #Format Data\n",
    "    text_data=file.decode('utf8')\n",
    "    text_data=text_data.encode('utf8',errors='ignore')\n",
    "    text_data=text_data.decode('utf8').split('\\n')\n",
    "    text_data=[x.split('\\t') for x in text_data if len(x)>=1]\n",
    "    \n",
    "    with open(save_file_name,'w') as temp_output_file:\n",
    "        writer=unicodecsv.writer(temp_output_file,encoding='utf-8')\n",
    "        writer.writerows(text_data)"
   ]
  },
  {
   "cell_type": "code",
   "execution_count": 22,
   "metadata": {
    "collapsed": true
   },
   "outputs": [],
   "source": [
    "texts=[x[1] for x in text_data]\n",
    "target=[x[0] for x in text_data]\n",
    "target=[1. if x=='spam' else 0. for x in target]"
   ]
  },
  {
   "cell_type": "code",
   "execution_count": 23,
   "metadata": {
    "collapsed": false
   },
   "outputs": [],
   "source": [
    "# standardize the words\n",
    "# Lower case\n",
    "texts=[x.lower() for x in texts]\n",
    "# Remove punctuation\n",
    "texts=[''.join(c for c in x if c not in string.punctuation) for x in texts]\n",
    "# Trim extra whitespace\n",
    "texts=[' '.join(x.split()) for x in texts]"
   ]
  },
  {
   "cell_type": "code",
   "execution_count": 24,
   "metadata": {
    "collapsed": true
   },
   "outputs": [],
   "source": [
    "def tokenizer(text):\n",
    "    words=nltk.word_tokenize(text)\n",
    "    return words"
   ]
  },
  {
   "cell_type": "code",
   "execution_count": 25,
   "metadata": {
    "collapsed": false
   },
   "outputs": [],
   "source": [
    "#Create TF-IDF of texts\n",
    "tfidf=TfidfVectorizer(tokenizer=tokenizer,stop_words='english',max_features=max_features)\n",
    "sparse_tfidf_texts=tfidf.fit_transform(texts)"
   ]
  },
  {
   "cell_type": "code",
   "execution_count": 27,
   "metadata": {
    "collapsed": false
   },
   "outputs": [],
   "source": [
    "temp=sparse_tfidf_texts.todense()"
   ]
  },
  {
   "cell_type": "code",
   "execution_count": 28,
   "metadata": {
    "collapsed": false,
    "scrolled": true
   },
   "outputs": [
    {
     "name": "stderr",
     "output_type": "stream",
     "text": [
      "/Users/edwin/anaconda/lib/python2.7/site-packages/ipykernel/__main__.py:2: VisibleDeprecationWarning: using a non-integer number instead of an integer will result in an error in the future\n",
      "  from ipykernel import kernelapp as app\n"
     ]
    }
   ],
   "source": [
    "# Break data into train and test set\n",
    "train_indices=np.random.choice(sparse_tfidf_texts.shape[0],round(0.8*sparse_tfidf_texts.shape[0]),replace=False)\n",
    "test_indices=np.array(list(set(range(sparse_tfidf_texts.shape[0]))-set(train_indices)))\n",
    "texts_train=sparse_tfidf_texts[train_indices]\n",
    "texts_test=sparse_tfidf_texts[test_indices]\n",
    "target_train=np.array([x for ix,x in enumerate(target) if ix in train_indices])\n",
    "target_test=np.array([x for ix,x in enumerate(target) if ix in test_indices])"
   ]
  },
  {
   "cell_type": "code",
   "execution_count": 29,
   "metadata": {
    "collapsed": true
   },
   "outputs": [],
   "source": [
    "A=tf.Variable(tf.random_normal(shape=[max_features,1]))\n",
    "b=tf.Variable(tf.random_normal(shape=[1,1]))\n",
    "# Initialize placeholders\n",
    "x_data = tf.placeholder(shape=[None,max_features],dtype=tf.float32)\n",
    "y_target = tf.placeholder(shape=[None,1],dtype=tf.float32)"
   ]
  },
  {
   "cell_type": "code",
   "execution_count": 30,
   "metadata": {
    "collapsed": false
   },
   "outputs": [],
   "source": [
    "model_output=tf.add(tf.matmul(x_data,A),b)\n",
    "loss=tf.reduce_mean(tf.nn.sigmoid_cross_entropy_with_logits(logits=model_output,labels=y_target))"
   ]
  },
  {
   "cell_type": "code",
   "execution_count": 31,
   "metadata": {
    "collapsed": false
   },
   "outputs": [],
   "source": [
    "prediction = tf.round(tf.sigmoid(model_output))\n",
    "prediction_correct = tf.cast(tf.equal(prediction,y_target),tf.float32)\n",
    "accuracy = tf.reduce_mean(prediction_correct)"
   ]
  },
  {
   "cell_type": "code",
   "execution_count": 32,
   "metadata": {
    "collapsed": false
   },
   "outputs": [],
   "source": [
    "my_opt = tf.train.GradientDescentOptimizer(0.0025)\n",
    "train_step = my_opt.minimize(loss)\n",
    "#Initialize Variables\n",
    "init=tf.global_variables_initializer()\n",
    "sess.run(init)"
   ]
  },
  {
   "cell_type": "code",
   "execution_count": 36,
   "metadata": {
    "collapsed": true
   },
   "outputs": [
    {
     "name": "stdout",
     "output_type": "stream",
     "text": [
      "(1115, 1000)\n",
      "(1115, 1000)\n",
      "(1115, 1000)\n",
      "(1115, 1000)\n",
      "(1115, 1000)\n",
      "Generation # 500. Train Loss (Test Loss) : 0.43 (0.47). Train Acc (Test Acc): 0.87 (0.85)\n",
      "(1115, 1000)\n",
      "(1115, 1000)\n",
      "(1115, 1000)\n",
      "(1115, 1000)\n",
      "(1115, 1000)\n",
      "Generation # 1000. Train Loss (Test Loss) : 0.43 (0.47). Train Acc (Test Acc): 0.86 (0.85)\n",
      "(1115, 1000)\n",
      "(1115, 1000)\n",
      "(1115, 1000)\n",
      "(1115, 1000)\n",
      "(1115, 1000)\n",
      "Generation # 1500. Train Loss (Test Loss) : 0.41 (0.47). Train Acc (Test Acc): 0.86 (0.85)\n",
      "(1115, 1000)\n",
      "(1115, 1000)\n",
      "(1115, 1000)\n",
      "(1115, 1000)\n",
      "(1115, 1000)\n",
      "Generation # 2000. Train Loss (Test Loss) : 0.42 (0.47). Train Acc (Test Acc): 0.88 (0.85)\n",
      "(1115, 1000)\n",
      "(1115, 1000)\n",
      "(1115, 1000)\n",
      "(1115, 1000)\n",
      "(1115, 1000)\n",
      "Generation # 2500. Train Loss (Test Loss) : 0.46 (0.47). Train Acc (Test Acc): 0.86 (0.85)\n",
      "(1115, 1000)\n",
      "(1115, 1000)\n",
      "(1115, 1000)\n",
      "(1115, 1000)\n",
      "(1115, 1000)\n",
      "Generation # 3000. Train Loss (Test Loss) : 0.47 (0.47). Train Acc (Test Acc): 0.83 (0.85)\n",
      "(1115, 1000)\n",
      "(1115, 1000)\n",
      "(1115, 1000)\n",
      "(1115, 1000)\n",
      "(1115, 1000)\n",
      "Generation # 3500. Train Loss (Test Loss) : 0.46 (0.47). Train Acc (Test Acc): 0.84 (0.85)\n",
      "(1115, 1000)\n",
      "(1115, 1000)\n",
      "(1115, 1000)\n",
      "(1115, 1000)\n",
      "(1115, 1000)\n",
      "Generation # 4000. Train Loss (Test Loss) : 0.40 (0.47). Train Acc (Test Acc): 0.88 (0.85)\n",
      "(1115, 1000)\n",
      "(1115, 1000)\n",
      "(1115, 1000)\n",
      "(1115, 1000)\n",
      "(1115, 1000)\n",
      "Generation # 4500. Train Loss (Test Loss) : 0.42 (0.47). Train Acc (Test Acc): 0.87 (0.85)\n",
      "(1115, 1000)\n",
      "(1115, 1000)\n",
      "(1115, 1000)\n",
      "(1115, 1000)\n",
      "(1115, 1000)\n",
      "Generation # 5000. Train Loss (Test Loss) : 0.41 (0.47). Train Acc (Test Acc): 0.88 (0.85)\n",
      "(1115, 1000)\n",
      "(1115, 1000)\n",
      "(1115, 1000)\n",
      "(1115, 1000)\n",
      "(1115, 1000)\n",
      "Generation # 5500. Train Loss (Test Loss) : 0.45 (0.47). Train Acc (Test Acc): 0.85 (0.85)\n",
      "(1115, 1000)\n",
      "(1115, 1000)\n",
      "(1115, 1000)\n",
      "(1115, 1000)\n",
      "(1115, 1000)\n",
      "Generation # 6000. Train Loss (Test Loss) : 0.45 (0.47). Train Acc (Test Acc): 0.88 (0.85)\n",
      "(1115, 1000)\n",
      "(1115, 1000)\n",
      "(1115, 1000)\n",
      "(1115, 1000)\n",
      "(1115, 1000)\n",
      "Generation # 6500. Train Loss (Test Loss) : 0.52 (0.47). Train Acc (Test Acc): 0.82 (0.85)\n",
      "(1115, 1000)\n",
      "(1115, 1000)\n",
      "(1115, 1000)\n",
      "(1115, 1000)\n",
      "(1115, 1000)\n",
      "Generation # 7000. Train Loss (Test Loss) : 0.47 (0.47). Train Acc (Test Acc): 0.85 (0.85)\n",
      "(1115, 1000)\n",
      "(1115, 1000)\n",
      "(1115, 1000)\n",
      "(1115, 1000)\n",
      "(1115, 1000)\n",
      "Generation # 7500. Train Loss (Test Loss) : 0.47 (0.47). Train Acc (Test Acc): 0.84 (0.85)\n",
      "(1115, 1000)\n",
      "(1115, 1000)\n",
      "(1115, 1000)\n",
      "(1115, 1000)\n",
      "(1115, 1000)\n",
      "Generation # 8000. Train Loss (Test Loss) : 0.46 (0.47). Train Acc (Test Acc): 0.85 (0.85)\n",
      "(1115, 1000)\n",
      "(1115, 1000)\n",
      "(1115, 1000)\n",
      "(1115, 1000)\n",
      "(1115, 1000)\n",
      "Generation # 8500. Train Loss (Test Loss) : 0.44 (0.47). Train Acc (Test Acc): 0.86 (0.85)\n",
      "(1115, 1000)\n",
      "(1115, 1000)\n",
      "(1115, 1000)\n",
      "(1115, 1000)\n",
      "(1115, 1000)\n",
      "Generation # 9000. Train Loss (Test Loss) : 0.36 (0.47). Train Acc (Test Acc): 0.89 (0.85)\n",
      "(1115, 1000)\n",
      "(1115, 1000)\n",
      "(1115, 1000)\n",
      "(1115, 1000)\n",
      "(1115, 1000)\n",
      "Generation # 9500. Train Loss (Test Loss) : 0.40 (0.47). Train Acc (Test Acc): 0.88 (0.85)\n",
      "(1115, 1000)\n",
      "(1115, 1000)\n",
      "(1115, 1000)\n",
      "(1115, 1000)\n",
      "(1115, 1000)\n",
      "Generation # 10000. Train Loss (Test Loss) : 0.43 (0.47). Train Acc (Test Acc): 0.88 (0.85)\n"
     ]
    }
   ],
   "source": [
    "# Model training\n",
    "\n",
    "train_loss = []\n",
    "test_loss = []\n",
    "train_acc = []\n",
    "test_acc = []\n",
    "i_data = []\n",
    "for i in range(10000):\n",
    "    \n",
    "    rand_index=np.random.choice(texts_train.shape[0],size=batch_size)\n",
    "    rand_x=texts_train[rand_index].todense()\n",
    "    rand_y=np.transpose([target_train[rand_index]])\n",
    "    sess.run(train_step,feed_dict={x_data:rand_x,y_target:rand_y})\n",
    "    \n",
    "    if (i+1)%100==0:\n",
    "        \n",
    "        i_data.append(i+1)\n",
    "        train_loss_temp = sess.run(loss,feed_dict={x_data:rand_x,y_target: rand_y})\n",
    "        train_loss.append(train_loss_temp)\n",
    "        \n",
    "        test_loss_temp = sess.run(loss,feed_dict={x_data:texts_test.todense(),y_target:np.transpose([target_test])})\n",
    "        print texts_test.shape\n",
    "        test_loss.append(test_loss_temp)\n",
    "        \n",
    "        train_acc_temp = sess.run(accuracy, feed_dict={x_data:rand_x, y_target:rand_y})\n",
    "        train_acc.append(train_acc_temp)\n",
    "        \n",
    "        test_acc_temp=sess.run(accuracy,feed_dict={x_data:texts_test.todense(),y_target:np.transpose([target_test])})\n",
    "        test_acc.append(test_acc_temp)\n",
    "        \n",
    "        if (i+1) % 500 ==0:\n",
    "            acc_and_loss = [i+1,train_loss_temp,test_loss_temp,train_acc_temp,test_acc_temp]\n",
    "            acc_and_loss = [np.round(x,2) for x in acc_and_loss]\n",
    "            print('Generation # {}. Train Loss (Test Loss) : {:.2f} ({:.2f}). Train Acc (Test Acc): {:.2f} ({:.2f})'.format(*acc_and_loss))"
   ]
  },
  {
   "cell_type": "code",
   "execution_count": 34,
   "metadata": {
    "collapsed": false,
    "scrolled": false
   },
   "outputs": [
    {
     "data": {
      "image/png": "[encoded data removed]",
      "text/plain": [
       "<matplotlib.figure.Figure at 0x120a067d0>"
      ]
     },
     "metadata": {},
     "output_type": "display_data"
    },
    {
     "data": {
      "image/png": "[encoded data removed]",
      "text/plain": [
       "<matplotlib.figure.Figure at 0x1286c7750>"
      ]
     },
     "metadata": {},
     "output_type": "display_data"
    }
   ],
   "source": [
    "# Plot loss over time\n",
    "plt.plot(i_data, train_loss, 'k-', label='Train Loss')\n",
    "plt.plot(i_data, test_loss, 'r--', label='Test Loss', linewidth=4)\n",
    "plt.title('Cross Entropy Loss per Generation')\n",
    "plt.xlabel('Generation')\n",
    "plt.ylabel('Cross Entropy Loss')\n",
    "plt.legend(loc='upper right')\n",
    "plt.show()\n",
    "\n",
    "# Plot train and test accuracy\n",
    "plt.plot(i_data, train_acc, 'k-', label='Train Set Accuracy')\n",
    "plt.plot(i_data, test_acc, 'r--', label='Test Set Accuracy', linewidth=4)\n",
    "plt.title('Train and Test Accuracy')\n",
    "plt.xlabel('Generation')\n",
    "plt.ylabel('Accuracy')\n",
    "plt.legend(loc='lower right')\n",
    "plt.show()"
   ]
  }
 ],
 "metadata": {
  "kernelspec": {
   "display_name": "Python 2",
   "language": "python",
   "name": "python2"
  },
  "language_info": {
   "codemirror_mode": {
    "name": "ipython",
    "version": 2
   },
   "file_extension": ".py",
   "mimetype": "text/x-python",
   "name": "python",
   "nbconvert_exporter": "python",
   "pygments_lexer": "ipython2",
   "version": "2.7.13"
  }
 },
 "nbformat": 4,
 "nbformat_minor": 2
}
