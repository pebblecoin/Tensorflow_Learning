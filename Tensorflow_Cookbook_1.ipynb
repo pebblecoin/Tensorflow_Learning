{
 "cells": [
  {
   "cell_type": "code",
   "execution_count": 6,
   "metadata": {
    "collapsed": false
   },
   "outputs": [
    {
     "name": "stdout",
     "output_type": "stream",
     "text": [
      "3.0\n",
      "9.0\n",
      "15.0\n",
      "21.0\n",
      "27.0\n"
     ]
    }
   ],
   "source": [
    "import tensorflow as tf\n",
    "import numpy as np\n",
    "sess=tf.Session()\n",
    "x_vals=np.array([1.,3.,5.,7.,9.])\n",
    "x_data=tf.placeholder(tf.float32)\n",
    "m_const=tf.constant(3.)\n",
    "my_product=tf.multiply(x_data,m_const)\n",
    "for x_val in x_vals:\n",
    "    print(sess.run(my_product,feed_dict={x_data:x_val}))"
   ]
  },
  {
   "cell_type": "code",
   "execution_count": 9,
   "metadata": {
    "collapsed": true
   },
   "outputs": [],
   "source": [
    "my_array = np.array([[1., 3., 5., 7., 9.],\n",
    "                          [-2., 0., 2., 4., 6.],\n",
    "                          [-6., -3., 0., 3., 6.]])\n",
    "x_vals=np.array([my_array,my_array+1])\n",
    "x_data=tf.placeholder(tf.float32,shape=(3,5))"
   ]
  },
  {
   "cell_type": "code",
   "execution_count": 14,
   "metadata": {
    "collapsed": false
   },
   "outputs": [],
   "source": [
    "m1=tf.constant([[1.],[0.],[-1.],[2.],[4.]])\n",
    "m2=tf.constant([[2.]])\n",
    "a1=tf.constant([[10.]])"
   ]
  },
  {
   "cell_type": "code",
   "execution_count": 16,
   "metadata": {
    "collapsed": false
   },
   "outputs": [],
   "source": [
    "prod1=tf.matmul(x_data,m1)\n",
    "prod2=tf.matmul(prod1,m2)\n",
    "add1=tf.add(prod2,a1)"
   ]
  },
  {
   "cell_type": "code",
   "execution_count": 17,
   "metadata": {
    "collapsed": false
   },
   "outputs": [
    {
     "name": "stdout",
     "output_type": "stream",
     "text": [
      "[[ 102.]\n",
      " [  66.]\n",
      " [  58.]]\n",
      "[[ 114.]\n",
      " [  78.]\n",
      " [  70.]]\n"
     ]
    }
   ],
   "source": [
    "for x_val in x_vals:\n",
    "    print(sess.run(add1,feed_dict={x_data:x_val}))"
   ]
  },
  {
   "cell_type": "code",
   "execution_count": 19,
   "metadata": {
    "collapsed": true
   },
   "outputs": [],
   "source": [
    "x_shape=[1,4,4,1]\n",
    "x_val=np.random.uniform(size=x_shape)\n",
    "x_data=tf.placeholder(tf.float32,shape=x_shape)\n",
    "my_filter=tf.constant(0.25,shape=[2,2,1,1])\n",
    "my_strides=[1,2,2,1]\n",
    "mov_avg_layer=tf.nn.conv2d(x_data,my_filter,my_strides,padding='SAME',name='Moving_Avg_Window')"
   ]
  },
  {
   "cell_type": "code",
   "execution_count": 20,
   "metadata": {
    "collapsed": true
   },
   "outputs": [],
   "source": [
    "def custom_layer(input_matrix):\n",
    "    input_matrix_sqeezed=tf.squeeze(input_matrix)\n",
    "    A=tf.constant([[1.,2.],[-1.,3.]])\n",
    "    b=tf.constant(1.,shape=[2,2])\n",
    "    temp1=tf.matmul(A,input_matrix_sqeezed)\n",
    "    temp=tf.add(temp1,b)\n",
    "    return(tf.sigmoid(temp))"
   ]
  },
  {
   "cell_type": "code",
   "execution_count": 21,
   "metadata": {
    "collapsed": true
   },
   "outputs": [],
   "source": [
    "with tf.name_scope('Custom_Layer') as scope:\n",
    "    custom_layer1=custom_layer(mov_avg_layer)"
   ]
  },
  {
   "cell_type": "code",
   "execution_count": 22,
   "metadata": {
    "collapsed": false,
    "scrolled": false
   },
   "outputs": [
    {
     "name": "stdout",
     "output_type": "stream",
     "text": [
      "[[ 0.871427    0.91368991]\n",
      " [ 0.72265363  0.8423382 ]]\n"
     ]
    }
   ],
   "source": [
    "print(sess.run(custom_layer1,feed_dict={x_data: x_val}))"
   ]
  },
  {
   "cell_type": "code",
   "execution_count": 25,
   "metadata": {
    "collapsed": false
   },
   "outputs": [],
   "source": [
    "import matplotlib.pyplot as plt\n",
    "x_vals = tf.linspace(-1.,1.,500)\n",
    "target = tf.constant(0.)\n",
    "l2_y_vals=tf.square(target - x_vals)\n",
    "l2_y_out=sess.run(l2_y_vals)"
   ]
  },
  {
   "cell_type": "code",
   "execution_count": 26,
   "metadata": {
    "collapsed": true
   },
   "outputs": [],
   "source": [
    "l1_y_vals = tf.abs(target - x_vals)\n",
    "l1_y_out = sess.run(l1_y_vals)"
   ]
  },
  {
   "cell_type": "code",
   "execution_count": 29,
   "metadata": {
    "collapsed": false
   },
   "outputs": [],
   "source": [
    "delta1 = tf.constant(0.25)\n",
    "phuber1_y_vals = tf.multiply(tf.square(delta1), tf.sqrt(1. + tf.square((target - x_vals)/delta1))-1.)\n",
    "phuber1_y_out = sess.run(phuber1_y_vals)\n",
    "delta2 = tf.constant(5.)\n",
    "phuber2_y_vals = tf.multiply(tf.square(delta2),tf.sqrt(1. + tf.square((target-x_vals)/delta2))-1.)\n",
    "phuber2_y_out = sess.run(phuber2_y_vals)"
   ]
  },
  {
   "cell_type": "code",
   "execution_count": 30,
   "metadata": {
    "collapsed": true
   },
   "outputs": [],
   "source": [
    "x_vals = tf.linspace(-3.,5.,500)\n",
    "target = tf.constant(1.)\n",
    "targets = tf.fill([500,],1.)\n",
    "\n",
    "hinge_y_vals = tf.maximum(0., 1. -tf.multiply(target, x_vals))\n",
    "hinge_y_out = sess.run(hinge_y_vals)"
   ]
  },
  {
   "cell_type": "markdown",
   "metadata": {},
   "source": [
    "## Working with Batch and Stochastic Training"
   ]
  },
  {
   "cell_type": "code",
   "execution_count": 55,
   "metadata": {
    "collapsed": true
   },
   "outputs": [],
   "source": [
    "sess=tf.Session()\n",
    "batch_size = 20\n",
    "x_vals = np.random.normal(1,0.1,100)\n",
    "y_vals = np.repeat(10.,100)\n",
    "x_data = tf.placeholder(shape=[None,None],dtype=tf.float32)\n",
    "y_target = tf.placeholder(shape=[None,None],dtype=tf.float32)\n",
    "A = tf.Variable(tf.random_normal(shape=[1,1]))\n",
    "my_output=tf.matmul(x_data,A)\n",
    "loss=tf.reduce_mean(tf.square(my_output - y_target))\n",
    "my_opt=tf.train.GradientDescentOptimizer(0.02)\n",
    "train_step=my_opt.minimize(loss)"
   ]
  },
  {
   "cell_type": "code",
   "execution_count": 56,
   "metadata": {
    "collapsed": true
   },
   "outputs": [
    {
     "name": "stdout",
     "output_type": "stream",
     "text": [
      "0\n",
      "1\n",
      "2\n",
      "3\n",
      "4\n",
      "Step #5A=[[ 2.50293779]]\n",
      "Loss=54.3462\n",
      "5\n",
      "6\n",
      "7\n",
      "8\n",
      "9\n",
      "Step #10A=[[ 3.88979983]]\n",
      "Loss=36.7599\n",
      "10\n",
      "11\n",
      "12\n",
      "13\n",
      "14\n",
      "Step #15A=[[ 5.01592159]]\n",
      "Loss=25.4127\n",
      "15\n",
      "16\n",
      "17\n",
      "18\n",
      "19\n",
      "Step #20A=[[ 5.92275238]]\n",
      "Loss=16.2747\n",
      "20\n",
      "21\n",
      "22\n",
      "23\n",
      "24\n",
      "Step #25A=[[ 6.64863253]]\n",
      "Loss=11.034\n",
      "25\n",
      "26\n",
      "27\n",
      "28\n",
      "29\n",
      "Step #30A=[[ 7.24307394]]\n",
      "Loss=8.01118\n",
      "30\n",
      "31\n",
      "32\n",
      "33\n",
      "34\n",
      "Step #35A=[[ 7.72087002]]\n",
      "Loss=5.39452\n",
      "35\n",
      "36\n",
      "37\n",
      "38\n",
      "39\n",
      "Step #40A=[[ 8.10711193]]\n",
      "Loss=2.69858\n",
      "40\n",
      "41\n",
      "42\n",
      "43\n",
      "44\n",
      "Step #45A=[[ 8.41249371]]\n",
      "Loss=2.57126\n",
      "45\n",
      "46\n",
      "47\n",
      "48\n",
      "49\n",
      "Step #50A=[[ 8.66823959]]\n",
      "Loss=2.55763\n",
      "50\n",
      "51\n",
      "52\n",
      "53\n",
      "54\n",
      "Step #55A=[[ 8.85830307]]\n",
      "Loss=1.25827\n",
      "55\n",
      "56\n",
      "57\n",
      "58\n",
      "59\n",
      "Step #60A=[[ 9.01735973]]\n",
      "Loss=1.53868\n",
      "60\n",
      "61\n",
      "62\n",
      "63\n",
      "64\n",
      "Step #65A=[[ 9.17091751]]\n",
      "Loss=0.93847\n",
      "65\n",
      "66\n",
      "67\n",
      "68\n",
      "69\n",
      "Step #70A=[[ 9.27029133]]\n",
      "Loss=0.858027\n",
      "70\n",
      "71\n",
      "72\n",
      "73\n",
      "74\n",
      "Step #75A=[[ 9.3754797]]\n",
      "Loss=1.2338\n",
      "75\n",
      "76\n",
      "77\n",
      "78\n",
      "79\n",
      "Step #80A=[[ 9.47189808]]\n",
      "Loss=0.695718\n",
      "80\n",
      "81\n",
      "82\n",
      "83\n",
      "84\n",
      "Step #85A=[[ 9.5354681]]\n",
      "Loss=0.659742\n",
      "85\n",
      "86\n",
      "87\n",
      "88\n",
      "89\n",
      "Step #90A=[[ 9.54354954]]\n",
      "Loss=0.577217\n",
      "90\n",
      "91\n",
      "92\n",
      "93\n",
      "94\n",
      "Step #95A=[[ 9.57517624]]\n",
      "Loss=1.1263\n",
      "95\n",
      "96\n",
      "97\n",
      "98\n",
      "99\n",
      "Step #100A=[[ 9.6082716]]\n",
      "Loss=0.356119\n"
     ]
    }
   ],
   "source": [
    "loss_batch=[]\n",
    "init_op = tf.global_variables_initializer()\n",
    "sess.run(init_op)\n",
    "for i in range(100):\n",
    "    rand_index=np.random.choice(100,size=batch_size)\n",
    "    rand_x=np.transpose([x_vals[rand_index]])\n",
    "    rand_y=np.transpose([y_vals[rand_index]])\n",
    "    print i\n",
    "    sess.run(train_step,feed_dict={x_data:rand_x,y_target:rand_y})\n",
    "    if (i+1)%5==0:\n",
    "        print('Step #' + str(i+1) + 'A=' +str(sess.run(A)))\n",
    "        temp_loss=sess.run(loss,feed_dict={x_data:rand_x,y_target:rand_y})\n",
    "        print('Loss='+str(temp_loss))\n",
    "        loss_batch.append(temp_loss)"
   ]
  },
  {
   "cell_type": "code",
   "execution_count": 58,
   "metadata": {
    "collapsed": true
   },
   "outputs": [
    {
     "name": "stdout",
     "output_type": "stream",
     "text": [
      "[[1.0183431862056993]]\n",
      "[[1.0524616522008556]]\n",
      "[[1.0001382935926946]]\n",
      "[[1.0793012200456036]]\n",
      "[[0.90852554653632822]]\n",
      "Step #5 A = [[ 9.65662956]]\n",
      "Loss = 1.50481\n",
      "[[1.0564614751531733]]\n",
      "[[0.98640875176092624]]\n",
      "[[0.99267128770639568]]\n",
      "[[1.0540009835531303]]\n",
      "[[0.86013427065879444]]\n",
      "Step #10 A = [[ 9.73225117]]\n",
      "Loss = 2.6535\n",
      "[[1.0984629555397616]]\n",
      "[[0.75460337773026198]]\n",
      "[[0.95236217997661521]]\n",
      "[[0.85558801387100114]]\n",
      "[[1.0349342196653979]]\n",
      "Step #15 A = [[ 9.85519314]]\n",
      "Loss = 0.0397908\n",
      "[[1.0349342196653979]]\n",
      "[[1.0204720639609961]]\n",
      "[[1.0261441635963962]]\n",
      "[[1.0189237120101693]]\n",
      "[[1.045477620860608]]\n",
      "Step #20 A = [[ 9.82764626]]\n",
      "Loss = 0.0753968\n",
      "[[1.0095101731062812]]\n",
      "[[1.1531473821066234]]\n",
      "[[1.1458080297156585]]\n",
      "[[1.1454222853877585]]\n",
      "[[1.0204720639609961]]\n",
      "Step #25 A = [[ 9.6685257]]\n",
      "Loss = 0.017833\n",
      "[[0.92455278030407739]]\n",
      "[[1.0870876772971469]]\n",
      "[[0.96788457138815709]]\n",
      "[[1.0467977968501772]]\n",
      "[[1.143349232514929]]\n",
      "Step #30 A = [[ 9.65126133]]\n",
      "Loss = 1.07073\n",
      "[[1.0453782812963319]]\n",
      "[[0.92697820478036574]]\n",
      "[[0.96227759068412932]]\n",
      "[[0.99155960908691831]]\n",
      "[[1.0927677558468354]]\n",
      "Step #35 A = [[ 9.69995308]]\n",
      "Loss = 0.359754\n",
      "[[0.96062668554832353]]\n",
      "[[1.0026546920358212]]\n",
      "[[0.87990294304531924]]\n",
      "[[1.0630408673943028]]\n",
      "[[0.96227759068412932]]\n",
      "Step #40 A = [[ 9.7924509]]\n",
      "Loss = 0.332865\n",
      "[[1.0540009835531303]]\n",
      "[[1.0984629555397616]]\n",
      "[[1.0189237120101693]]\n",
      "[[1.0261441635963962]]\n",
      "[[1.0630616688786738]]\n",
      "Step #45 A = [[ 9.7335043]]\n",
      "Loss = 0.120628\n",
      "[[1.0611903611662861]]\n",
      "[[0.9581116306685783]]\n",
      "[[0.98733376361337077]]\n",
      "[[1.0927677558468354]]\n",
      "[[0.94594701965829453]]\n",
      "Step #50 A = [[ 9.76173115]]\n",
      "Loss = 0.586633\n",
      "[[1.0540009835531303]]\n",
      "[[1.216042085094686]]\n",
      "[[1.0026546920358212]]\n",
      "[[1.0988488125565969]]\n",
      "[[0.75460337773026198]]\n",
      "Step #55 A = [[ 9.72648621]]\n",
      "Loss = 7.07752\n",
      "[[0.98041959994235495]]\n",
      "[[1.1458080297156585]]\n",
      "[[1.1183983979212888]]\n",
      "[[1.2021488809608607]]\n",
      "[[0.92697820478036574]]\n",
      "Step #60 A = [[ 9.61818409]]\n",
      "Loss = 1.17539\n",
      "[[0.94594701965829453]]\n",
      "[[1.0575233541556117]]\n",
      "[[1.0540009835531303]]\n",
      "[[0.95236217997661521]]\n",
      "[[1.1411821622887142]]\n",
      "Step #65 A = [[ 9.62078094]]\n",
      "Loss = 0.958566\n",
      "[[1.0453782812963319]]\n",
      "[[0.98733376361337077]]\n",
      "[[1.021406525278872]]\n",
      "[[1.0793012200456036]]\n",
      "[[0.98733376361337077]]\n",
      "Step #70 A = [[ 9.64648819]]\n",
      "Loss = 0.226287\n",
      "[[1.0522256714517597]]\n",
      "[[0.96788457138815709]]\n",
      "[[0.94594701965829453]]\n",
      "[[1.0198435675544335]]\n",
      "[[0.86013427065879444]]\n",
      "Step #75 A = [[ 9.75984478]]\n",
      "Loss = 2.57674\n",
      "[[0.94805595410503773]]\n",
      "[[0.99525592805126983]]\n",
      "[[0.9581116306685783]]\n",
      "[[1.2021488809608607]]\n",
      "[[1.0183431862056993]]\n",
      "Step #80 A = [[ 9.73852253]]\n",
      "Loss = 0.00686278\n",
      "[[1.0095101731062812]]\n",
      "[[1.045477620860608]]\n",
      "[[1.2021488809608607]]\n",
      "[[1.0585870008371601]]\n",
      "[[0.94713788015374445]]\n",
      "Step #85 A = [[ 9.67879391]]\n",
      "Loss = 0.693635\n",
      "[[1.0026546920358212]]\n",
      "[[0.99820192708236288]]\n",
      "[[0.96485280651653527]]\n",
      "[[1.1332605165420522]]\n",
      "[[1.0540009835531303]]\n",
      "Step #90 A = [[ 9.67321301]]\n",
      "Loss = 0.0382499\n",
      "[[0.94743280020449472]]\n",
      "[[0.83509696225627028]]\n",
      "[[1.0575233541556117]]\n",
      "[[0.8870243183094122]]\n",
      "[[1.1183626625072314]]\n",
      "Step #95 A = [[ 9.75899792]]\n",
      "Loss = 0.835577\n",
      "[[1.0590891622891503]]\n",
      "[[0.9581116306685783]]\n",
      "[[0.96645221885681609]]\n",
      "[[0.97057198527913502]]\n",
      "[[1.0522256714517597]]\n",
      "Step #100 A = [[ 9.79741669]]\n",
      "Loss = 0.0955388\n"
     ]
    }
   ],
   "source": [
    "loss_stochastic = []\n",
    "for i in range(100):\n",
    "    rand_index = np.random.choice(100)\n",
    "    rand_x = [[x_vals[rand_index]]]\n",
    "    rand_y = [[y_vals[rand_index]]]\n",
    "    print rand_x\n",
    "    sess.run(train_step, feed_dict={x_data: rand_x, y_target: rand_y})\n",
    "    if (i+1)%5==0:\n",
    "            print('Step #' + str(i+1) + ' A = ' + str(sess.run(A)))\n",
    "            temp_loss = sess.run(loss, feed_dict={x_data: rand_x, y_target: rand_y})\n",
    "            print('Loss = ' + str(temp_loss))\n",
    "            loss_stochastic.append(temp_loss)"
   ]
  },
  {
   "cell_type": "code",
   "execution_count": 67,
   "metadata": {
    "collapsed": false
   },
   "outputs": [
    {
     "data": {
      "image/png": "[encoded data removed]",
      "text/plain": [
       "<matplotlib.figure.Figure at 0x11c19c850>"
      ]
     },
     "metadata": {},
     "output_type": "display_data"
    }
   ],
   "source": [
    "plt.plot(range(0, 100, 5), loss_stochastic, 'b-', label='StochasticLoss')\n",
    "plt.plot(range(0, 100, 5), loss_batch, 'r--', label='Batch Loss,size=20')\n",
    "plt.legend(loc='upper right', prop={'size': 11})\n",
    "plt.show()"
   ]
  }
 ],
 "metadata": {
  "kernelspec": {
   "display_name": "Python 2",
   "language": "python",
   "name": "python2"
  },
  "language_info": {
   "codemirror_mode": {
    "name": "ipython",
    "version": 2
   },
   "file_extension": ".py",
   "mimetype": "text/x-python",
   "name": "python",
   "nbconvert_exporter": "python",
   "pygments_lexer": "ipython2",
   "version": "2.7.13"
  }
 },
 "nbformat": 4,
 "nbformat_minor": 2
}
